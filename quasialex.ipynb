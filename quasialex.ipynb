{
  "nbformat": 4,
  "nbformat_minor": 0,
  "metadata": {
    "colab": {
      "provenance": [],
      "authorship_tag": "ABX9TyOmshDxYT0bV6WIo37mDnQ8",
      "include_colab_link": true
    },
    "kernelspec": {
      "name": "python3",
      "display_name": "Python 3"
    },
    "language_info": {
      "name": "python"
    }
  },
  "cells": [
    {
      "cell_type": "markdown",
      "metadata": {
        "id": "view-in-github",
        "colab_type": "text"
      },
      "source": [
        "<a href=\"https://colab.research.google.com/github/doranosu/alex/blob/main/quasialex.ipynb\" target=\"_parent\"><img src=\"https://colab.research.google.com/assets/colab-badge.svg\" alt=\"Open In Colab\"/></a>"
      ]
    },
    {
      "cell_type": "code",
      "execution_count": 1,
      "metadata": {
        "colab": {
          "base_uri": "https://localhost:8080/"
        },
        "id": "L_oTaGI9jT5v",
        "outputId": "57fa0891-2a1a-4625-c305-6727b382ebdc"
      },
      "outputs": [
        {
          "output_type": "stream",
          "name": "stderr",
          "text": [
            "100%|██████████| 170M/170M [00:10<00:00, 16.1MB/s]\n"
          ]
        },
        {
          "output_type": "stream",
          "name": "stdout",
          "text": [
            "(50000, 3, 32, 32)\n",
            "(50000,)\n",
            "(10000, 3, 32, 32)\n",
            "(10000,)\n"
          ]
        }
      ],
      "source": [
        "import torch\n",
        "import torchvision\n",
        "import torchvision.transforms as transforms\n",
        "import numpy as np\n",
        "\n",
        "transform = transforms.Compose([\n",
        "    transforms.ToTensor()\n",
        "])\n",
        "\n",
        "train_dataset = torchvision.datasets.CIFAR10(root='./data/', train=True, transform=transform, download=True)\n",
        "test_dataset = torchvision.datasets.CIFAR10(root='./data/', train=False, transform=transform, download=True)\n",
        "\n",
        "train_images = []\n",
        "train_labels = []\n",
        "for img, label in train_dataset:\n",
        "    train_images.append(img.numpy())\n",
        "    train_labels.append(label)\n",
        "\n",
        "test_images = []\n",
        "test_labels = []\n",
        "for img, label in test_dataset:\n",
        "    test_images.append(img.numpy())\n",
        "    test_labels.append(label)\n",
        "\n",
        "train_images = np.array(train_images)\n",
        "train_labels = np.array(train_labels)\n",
        "test_images = np.array(test_images)\n",
        "test_labels = np.array(test_labels)\n",
        "\n",
        "print(train_images.shape)\n",
        "print(train_labels.shape)\n",
        "print(test_images.shape)\n",
        "print(test_labels.shape)\n"
      ]
    },
    {
      "cell_type": "code",
      "source": [
        "import cv2\n",
        "\n",
        "def conv2d_forward(X, W, b, stride=1, padding=0):\n",
        "    N, C, H, W_in = X.shape\n",
        "    F, _, HH, WW = W.shape\n",
        "    out_h = (H + 2*padding - HH)//stride + 1\n",
        "    out_w = (W_in + 2*padding - WW)//stride + 1\n",
        "\n",
        "    X_pad = np.pad(X, ((0,0),(0,0),(padding,padding),(padding,padding)), mode='constant')\n",
        "    out = np.zeros((N, F, out_h, out_w))\n",
        "\n",
        "    for n in range(N):\n",
        "        for f in range(F):\n",
        "            for i in range(out_h):\n",
        "                for j in range(out_w):\n",
        "                    h_start = i * stride\n",
        "                    w_start = j * stride\n",
        "                    window = X_pad[n, :, h_start:h_start+HH, w_start:w_start+WW]\n",
        "                    out[n, f, i, j] = np.sum(window * W[f]) + b[f]\n",
        "    return out\n",
        "\n",
        "def relu_forward(X):\n",
        "    return np.maximum(0, X)\n",
        "\n",
        "def maxpool_forward(X, size=2, stride=2):\n",
        "    N, C, H, W_in = X.shape\n",
        "    out_h = (H - size)//stride + 1\n",
        "    out_w = (W_in - size)//stride + 1\n",
        "    out = np.zeros((N, C, out_h, out_w))\n",
        "\n",
        "    for n in range(N):\n",
        "        for c in range(C):\n",
        "            for i in range(out_h):\n",
        "                for j in range(out_w):\n",
        "                    h_start = i * stride\n",
        "                    w_start = j * stride\n",
        "                    window = X[n, c, h_start:h_start+size, w_start:w_start+size]\n",
        "                    out[n, c, i, j] = np.max(window)\n",
        "    return out\n",
        "\n",
        "def fc_forward(X, W, b):\n",
        "    return X @ W + b\n",
        "\n",
        "def softmax_crossentropy_loss(logits, labels):\n",
        "    shifted_logits = logits - np.max(logits, axis=1, keepdims=True)\n",
        "    exp_logits = np.exp(shifted_logits)\n",
        "    probs = exp_logits / np.sum(exp_logits, axis=1, keepdims=True)\n",
        "\n",
        "    N = logits.shape[0]\n",
        "    loss = -np.sum(np.log(probs[np.arange(N), labels])) / N\n",
        "\n",
        "    dlogits = probs.copy()\n",
        "    dlogits[np.arange(N), labels] -= 1\n",
        "    dlogits /= N\n",
        "\n",
        "    return loss, dlogits\n",
        "\n"
      ],
      "metadata": {
        "id": "DsNmS7JRlJVo"
      },
      "execution_count": 9,
      "outputs": []
    },
    {
      "cell_type": "code",
      "source": [
        "def alexnet_forward(X, params):\n",
        "    # X: (N, 3, 32, 32)のバッチ\n",
        "    # params: パラメータの辞書\n",
        "\n",
        "    # Conv1\n",
        "    out = conv2d_forward(X, params['W1'], params['b1'], stride=1, padding=1)\n",
        "    out = relu_forward(out)\n",
        "    out = maxpool_forward(out, size=2, stride=2)  # → (N, 64, 16, 16)\n",
        "\n",
        "    # Conv2\n",
        "    out = conv2d_forward(out, params['W2'], params['b2'], stride=1, padding=2)\n",
        "    out = relu_forward(out)\n",
        "    out = maxpool_forward(out, size=2, stride=2)  # → (N, 192, 8, 8)\n",
        "\n",
        "    # Conv3\n",
        "    out = conv2d_forward(out, params['W3'], params['b3'], stride=1, padding=1)\n",
        "    out = relu_forward(out)  # → (N, 384, 8, 8)\n",
        "\n",
        "    # Conv4\n",
        "    out = conv2d_forward(out, params['W4'], params['b4'], stride=1, padding=1)\n",
        "    out = relu_forward(out)  # → (N, 256, 8, 8)\n",
        "\n",
        "    # Conv5\n",
        "    out = conv2d_forward(out, params['W5'], params['b5'], stride=1, padding=1)\n",
        "    out = relu_forward(out)\n",
        "    out = maxpool_forward(out, size=2, stride=2)  # → (N, 256, 4, 4)\n",
        "\n",
        "    # Flatten\n",
        "    N = out.shape[0]\n",
        "    out = out.reshape(N, -1)  # (N, 256*4*4)\n",
        "\n",
        "    # FC1\n",
        "    out = fc_forward(out, params['W6'], params['b6'])\n",
        "    out = relu_forward(out)\n",
        "\n",
        "    # FC2\n",
        "    out = fc_forward(out, params['W7'], params['b7'])\n",
        "    out = relu_forward(out)\n",
        "\n",
        "    # FC3\n",
        "    out = fc_forward(out, params['W8'], params['b8'])  # 出力ロジット (N, 10)\n",
        "\n",
        "    return out\n"
      ],
      "metadata": {
        "id": "ATOsxzCG0nMr"
      },
      "execution_count": 4,
      "outputs": []
    },
    {
      "cell_type": "code",
      "source": [
        "def initialize_params():\n",
        "    params = {}\n",
        "    # Conv layers\n",
        "    params['W1'] = np.random.randn(64, 3, 3, 3) * np.sqrt(2. / (3*3*3))\n",
        "    params['b1'] = np.zeros(64)\n",
        "    params['W2'] = np.random.randn(192, 64, 5, 5) * np.sqrt(2. / (64*5*5))\n",
        "    params['b2'] = np.zeros(192)\n",
        "    params['W3'] = np.random.randn(384, 192, 3, 3) * np.sqrt(2. / (192*3*3))\n",
        "    params['b3'] = np.zeros(384)\n",
        "    params['W4'] = np.random.randn(256, 384, 3, 3) * np.sqrt(2. / (384*3*3))\n",
        "    params['b4'] = np.zeros(256)\n",
        "    params['W5'] = np.random.randn(256, 256, 3, 3) * np.sqrt(2. / (256*3*3))\n",
        "    params['b5'] = np.zeros(256)\n",
        "    # FC layers\n",
        "    params['W6'] = np.random.randn(256*4*4, 4096) * np.sqrt(2. / (256*4*4))\n",
        "    params['b6'] = np.zeros(4096)\n",
        "    params['W7'] = np.random.randn(4096, 4096) * np.sqrt(2. / 4096)\n",
        "    params['b7'] = np.zeros(4096)\n",
        "    params['W8'] = np.random.randn(4096, 10) * np.sqrt(2. / 4096)\n",
        "    params['b8'] = np.zeros(10)\n",
        "    return params\n"
      ],
      "metadata": {
        "id": "FqEuRVl10ySo"
      },
      "execution_count": 6,
      "outputs": []
    },
    {
      "cell_type": "code",
      "source": [
        "# パラメータ初期化\n",
        "params = initialize_params()\n",
        "\n",
        "# 小さいバッチを作る（ここでは例えば32個だけ）\n",
        "batch_X = train_images[:32]  # (32,3,32,32)\n",
        "batch_y = train_labels[:32]  # (32,)\n",
        "\n",
        "# 順伝播してロジットを得る\n",
        "logits = alexnet_forward(batch_X, params)\n",
        "\n",
        "# softmaxクロスエントロピーloss計算\n",
        "loss, probs = softmax_crossentropy_loss(logits, batch_y)\n",
        "\n",
        "print(f\"loss = {loss:.4f}\")\n"
      ],
      "metadata": {
        "colab": {
          "base_uri": "https://localhost:8080/"
        },
        "id": "jdLoigEr0p6o",
        "outputId": "71519507-d188-4c2e-eb26-e340ba27d6a3"
      },
      "execution_count": 7,
      "outputs": [
        {
          "output_type": "stream",
          "name": "stdout",
          "text": [
            "loss = 2.6349\n"
          ]
        }
      ]
    },
    {
      "cell_type": "code",
      "source": [
        "def fc_backward(dout, X, W, b):\n",
        "    \"\"\"\n",
        "    dout: (N, output_dim) 上流から流れてきた勾配\n",
        "    X: (N, input_dim) forward時の入力\n",
        "    W: (input_dim, output_dim)\n",
        "    b: (output_dim,)\n",
        "\n",
        "    戻り値:\n",
        "    - dX: 入力Xに対する勾配\n",
        "    - dW: 重みWに対する勾配\n",
        "    - db: バイアスbに対する勾配\n",
        "    \"\"\"\n",
        "    dX = dout @ W.T\n",
        "    dW = X.T @ dout\n",
        "    db = np.sum(dout, axis=0)\n",
        "    return dX, dW, db\n",
        "def relu_backward(dout, X):\n",
        "    \"\"\"\n",
        "    dout: 上流から流れてきた勾配 (N, ...)\n",
        "    X: forward時の入力 (N, ...)\n",
        "\n",
        "    戻り値:\n",
        "    - dX: 入力Xに対する勾配\n",
        "    \"\"\"\n",
        "    dX = dout * (X > 0)\n",
        "    return dX\n",
        "def maxpool_backward(dout, X, size=2, stride=2):\n",
        "    \"\"\"\n",
        "    dout: 上流から流れてきた勾配 (N, C, out_h, out_w)\n",
        "    X: forward時の入力 (N, C, H, W)\n",
        "\n",
        "    戻り値:\n",
        "    - dX: 入力Xに対する勾配\n",
        "    \"\"\"\n",
        "    N, C, H, W = X.shape\n",
        "    out_h, out_w = dout.shape[2], dout.shape[3]\n",
        "    dX = np.zeros_like(X)\n",
        "\n",
        "    for n in range(N):\n",
        "        for c in range(C):\n",
        "            for i in range(out_h):\n",
        "                for j in range(out_w):\n",
        "                    h_start = i * stride\n",
        "                    w_start = j * stride\n",
        "                    window = X[n, c, h_start:h_start+size, w_start:w_start+size]\n",
        "                    max_val = np.max(window)\n",
        "                    # 最大値のところだけ上流の勾配を渡す\n",
        "                    for ii in range(size):\n",
        "                        for jj in range(size):\n",
        "                            if window[ii, jj] == max_val:\n",
        "                                dX[n, c, h_start+ii, w_start+jj] += dout[n, c, i, j]\n",
        "                                break\n",
        "                        else:\n",
        "                            continue\n",
        "                        break\n",
        "    return dX\n"
      ],
      "metadata": {
        "id": "zf7iu4Wj_xrf"
      },
      "execution_count": 12,
      "outputs": []
    }
  ]
}